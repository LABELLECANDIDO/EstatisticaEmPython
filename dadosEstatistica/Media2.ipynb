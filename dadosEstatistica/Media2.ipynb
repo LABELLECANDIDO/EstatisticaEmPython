import numpy as np
import pandas as pd
from google.colab import drive

drive.mount('/content/drive')
dados_metaverso = pd.read_csv('/content/drive/MyDrive/metaverse_transactions_dataset.csv')


#Media do valor gasto em transações feita em cada região do mundo

transacoes_europa = dados_metaverso[dados_metaverso['location_region'] == 'Europe']
media_europa = transacoes_europa['amount'].mean()
media_transacoes_europa_df = pd.DataFrame({'Média do valor de Transações na Europa': [media_europa]})

transacoes_namerica = dados_metaverso[dados_metaverso['location_region'] == 'North America']
media_namerica = transacoes_namerica['amount'].mean()
media_transacoes_namerica_df = pd.DataFrame({'Média do valor de Transações na America do norte': [media_namerica]})

transacoes_samerica = dados_metaverso[dados_metaverso['location_region'] == 'South America']
media_samerica = transacoes_samerica['amount'].mean()
media_transacoes_samerica_df = pd.DataFrame({'Média do valor de Transações na America do sul': [media_samerica]})

transacoes_africa = dados_metaverso[dados_metaverso['location_region'] == 'Africa']
media_africa = transacoes_africa['amount'].mean()
media_transacoes_africa_df = pd.DataFrame({'Média do valor de Transações na Africa': [media_africa]})

transacoes_asia = dados_metaverso[dados_metaverso['location_region'] == 'Asia']
media_asia = transacoes_asia['amount'].mean()
media_transacoes_asia_df = pd.DataFrame({'Média do valor de Transações na Asia': [media_asia]})

print('Media do valor gasto em transações feita em cada região do mundo')
print('_____________________________________________')

print(media_transacoes_europa_df.to_string(index=False))
print('_____________________________________________')
print(media_transacoes_namerica_df.to_string(index=False))
print('_____________________________________________')
print(media_transacoes_samerica_df.to_string(index=False))
print('_____________________________________________')
print(media_transacoes_africa_df.to_string(index=False))
print('_____________________________________________')
print(media_transacoes_asia_df.to_string(index=False))

print('_____________________________________________')
