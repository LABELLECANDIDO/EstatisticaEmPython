import numpy as np
import pandas as pd
from google.colab import drive

drive.mount('/content/drive')

dados_metaverso = pd.read_csv('/content/drive/MyDrive/metaverse_transactions_dataset.csv')

#Media de valor da transação de acordo com o nivel de risco

#AMERICA DO NORTE
risco_valor_norte_america = dados_metaverso[(dados_metaverso['anomaly'] == 'low_risk') & (dados_metaverso['location_region'] == 'North America')]
media_baixo_norte_america = risco_valor_norte_america['amount'].mean()
media_baixo_norte_america_df = pd.DataFrame({'> transações de BAIXO risco na América do Norte:': [media_baixo_norte_america]})

risco_valor_norte_americ = dados_metaverso[(dados_metaverso['anomaly'] == 'high_risk') & (dados_metaverso['location_region'] == 'North America')]
media_alto_norte_america = risco_valor_norte_americ['amount'].mean()
media_alto_norte_america_df = pd.DataFrame({'> transações de ALTO risco na América do Norte:':  [media_alto_norte_america]})

risco_valor_norte_americ = dados_metaverso[(dados_metaverso['anomaly'] == 'moderate_risk') & (dados_metaverso['location_region'] == 'North America')]
media_moderado_norte_america = risco_valor_norte_americ['amount'].mean()
media_moderado_norte_america_df = pd.DataFrame({'> transações de risco MODERADO na América do Norte:':  [media_moderado_norte_america]})


#AMERICA DO SUL
risco_valor_sul_america = dados_metaverso[(dados_metaverso['anomaly'] == 'low_risk') & (dados_metaverso['location_region'] == 'South America')]
media_baixo_sul_america = risco_valor_sul_america['amount'].mean()
media_baixo_sul_america_df = pd.DataFrame({'> transações de BAIXO risco na América do Sul:': [media_baixo_sul_america]})

risco_valor_sul_america = dados_metaverso[(dados_metaverso['anomaly'] == 'high_risk') & (dados_metaverso['location_region'] == 'South America')]
media_alto_sul_america = risco_valor_sul_america['amount'].mean()
media_alto_sul_america_df = pd.DataFrame({'> transações de ALTO risco na América do Sul:':  [media_alto_sul_america]})

risco_valor_sul_america = dados_metaverso[(dados_metaverso['anomaly'] == 'moderate_risk') & (dados_metaverso['location_region'] == 'South America')]
media_moderado_sul_america = risco_valor_sul_america['amount'].mean()
media_moderado_sul_america_df = pd.DataFrame({'> transações de risco MODERADO na América do Sul:':  [media_moderado_sul_america]})

#EUROPA
risco_valor_europa = dados_metaverso[(dados_metaverso['anomaly'] == 'low_risk') & (dados_metaverso['location_region'] == 'Europe')]
media_baixo_europa = risco_valor_europa['amount'].mean()
media_baixo_europa_df = pd.DataFrame({'> transações de BAIXO risco na Europa:': [media_baixo_europa]})

risco_valor_europa = dados_metaverso[(dados_metaverso['anomaly'] == 'high_risk') & (dados_metaverso['location_region'] == 'Europe')]
media_alto_europa = risco_valor_europa['amount'].mean()
media_alto_europa_df = pd.DataFrame({'> transações de ALTO risco na Europa':  [media_alto_europa]})

risco_valor_europa= dados_metaverso[(dados_metaverso['anomaly'] == 'moderate_risk') & (dados_metaverso['location_region'] == 'Europe')]
media_moderado_europa = risco_valor_europa['amount'].mean()
media_moderado_europa_df = pd.DataFrame({'> transações de risco MODERADO Europa:':  [media_moderado_europa]})

#AFRICA
risco_valor_africa = dados_metaverso[(dados_metaverso['anomaly'] == 'low_risk') & (dados_metaverso['location_region'] == 'Europe')]
media_baixo_africa = risco_valor_africa['amount'].mean()
media_baixo_africa_df = pd.DataFrame({'> transações de BAIXO risco na Africa:': [media_baixo_africa]})

risco_valor_africa = dados_metaverso[(dados_metaverso['anomaly'] == 'high_risk') & (dados_metaverso['location_region'] == 'Europe')]
media_alto_africa = risco_valor_africa['amount'].mean()
media_alto_africa_df = pd.DataFrame({'> transações de ALTO risco na Africa: ':  [media_alto_africa]})

risco_valor_europa= dados_metaverso[(dados_metaverso['anomaly'] == 'moderate_risk') & (dados_metaverso['location_region'] == 'Europe')]
media_moderado_africa = risco_valor_africa['amount'].mean()
media_moderado_africa_df = pd.DataFrame({'> transações de risco MODERADO Africa:':  [media_moderado_africa]})

#ASIA
risco_valor_asia = dados_metaverso[(dados_metaverso['anomaly'] == 'low_risk') & (dados_metaverso['location_region'] == 'Europe')]
media_baixo_asia = risco_valor_asia['amount'].mean()
media_baixo_asia_df = pd.DataFrame({'> transações de BAIXO risco na Asia:': [media_baixo_asia]})

risco_valor_asia = dados_metaverso[(dados_metaverso['anomaly'] == 'high_risk') & (dados_metaverso['location_region'] == 'Europe')]
media_alto_asia = risco_valor_asia['amount'].mean()
media_alto_asia_df = pd.DataFrame({'> transações de ALTO risco na Asia: ':  [media_alto_asia]})

risco_valor_asia = dados_metaverso[(dados_metaverso['anomaly'] == 'moderate_risk') & (dados_metaverso['location_region'] == 'Europe')]
media_moderado_asia = risco_valor_asia['amount'].mean()
media_moderado_asia_df = pd.DataFrame({'> transações de risco MODERADO Asia:':  [media_moderado_asia]})




print('Media de valor da transação de acordo com o nivel de risco em cada região do mundo')
print('_____________________________________________')

print('AMERICA DO NORTE')
print('_____________________________________________')
print(media_baixo_norte_america_df.to_string(index=False))
print(media_alto_norte_america_df.to_string(index=False))
print(media_moderado_norte_america_df.to_string(index=False))
print('_____________________________________________')
print('AMERICA DO SUL')
print('_____________________________________________')
print(media_baixo_sul_america_df.to_string(index=False))
print(media_alto_sul_america_df.to_string(index=False))
print(media_moderado_sul_america_df.to_string(index=False))
print('_____________________________________________')
print('EUROPA')
print('_____________________________________________')
print(media_baixo_europa_df.to_string(index=False))
print(media_alto_europa_df.to_string(index=False))
print(media_moderado_europa_df.to_string(index=False))
print('_____________________________________________')
print('AFRICA')
print('_____________________________________________')
print(media_baixo_africa_df.to_string(index=False))
print(media_alto_africa_df.to_string(index=False))
print(media_moderado_africa_df.to_string(index=False))
print('_____________________________________________')
print('ASIA')
print('_____________________________________________')
print(media_baixo_asia_df.to_string(index=False))
print(media_alto_asia_df.to_string(index=False))
print(media_moderado_asia_df.to_string(index=False))


print('_____________________________________________')
