import numpy as np
import pandas as pd
from google.colab import drive

drive.mount('/content/drive')
dados_metaverso = pd.read_csv('/content/drive/MyDrive/metaverse_transactions_dataset.csv')


#Modas dos tipos de transações feita em cada região do mundo

ip_europa = dados_metaverso[dados_metaverso['location_region'] == 'Europe']
moda_ip = ip_europa['transaction_type'].mode()
moda_ip_europa_df = moda_ip.to_frame(name='Moda das transações feita na Europa')

ip_namerica = dados_metaverso[dados_metaverso['location_region'] == 'North America']
moda_ip = ip_namerica['transaction_type'].mode()
moda_ip_namerica_df = moda_ip.to_frame(name='Moda das transações feita na America do norte')

ip_samerica = dados_metaverso[dados_metaverso['location_region'] == 'South America']
moda_ip = ip_samerica['transaction_type'].mode()
moda_ip_samerica_df = moda_ip.to_frame(name='Moda das transações feita na America do sul')
ip_africa = dados_metaverso[dados_metaverso['location_region'] == 'Africa']
moda_ip = ip_africa['transaction_type'].mode()
moda_ip_africa_df = moda_ip.to_frame(name='Moda das transações feita na Africa')

ip_asia = dados_metaverso[dados_metaverso['location_region'] == 'Asia']
moda_ip = ip_asia['transaction_type'].mode()
moda_ip_asia_df = moda_ip.to_frame(name='Moda das transações feita na Asia')

print("Moda das transações feita em cada região do mundo")
print('_____________________________________________')

print(moda_ip_europa_df.to_string(index=False))
print('_____________________________________________')
print(moda_ip_namerica_df.to_string(index=False))
print('_____________________________________________')
print(moda_ip_samerica_df.to_string(index=False))
print('_____________________________________________')
print(moda_ip_africa_df.to_string(index=False))
print('_____________________________________________')
print(moda_ip_asia_df.to_string(index=False))

print('_____________________________________________')
