import numpy as np
import pandas as pd

# Mount Google Drive
from google.colab import drive
drive.mount('/content/drive')

dados_metaverso = pd.read_csv('/content/sample_data/metaverse_transactions_dataset.csv')


# Calcule a mediana do tempo de sessão
mediana_tempo_sessao = dados_metaverso['session_duration'].median()
mediana_sessao_df = pd.DataFrame({'tempo da sessão de usuários': [mediana_tempo_sessao]})

# Imprima a mediana
print('Mediana do tempo da sessão em todo o mundo')
print('_____________________________________________')

print(mediana_sessao_df.to_string(index=False))
